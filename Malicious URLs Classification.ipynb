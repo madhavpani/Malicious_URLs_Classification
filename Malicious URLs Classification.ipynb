{
 "cells": [
  {
   "cell_type": "markdown",
   "id": "f0baf50a-74e9-48c6-aa17-fbdc692898b4",
   "metadata": {},
   "source": [
    "## Malicious URLs Classification"
   ]
  },
  {
   "cell_type": "markdown",
   "id": "6f9b20a5-5df9-4db0-b4d9-29b1913c272a",
   "metadata": {},
   "source": [
    "#### Import Libraries"
   ]
  },
  {
   "cell_type": "code",
   "execution_count": 1,
   "id": "39612a6e-b8d2-43d0-a5f4-4578d249d3c1",
   "metadata": {},
   "outputs": [],
   "source": [
    "import pandas as pd\n",
    "import numpy as np\n",
    "import seaborn as sns\n",
    "import matplotlib.pyplot as plt"
   ]
  },
  {
   "cell_type": "code",
   "execution_count": 2,
   "id": "0b4371f6-6de1-4060-8ab6-e0812f544780",
   "metadata": {},
   "outputs": [],
   "source": [
    "import warnings\n",
    "warnings.filterwarnings('ignore')"
   ]
  },
  {
   "cell_type": "markdown",
   "id": "9b47aaa9-2bc0-4670-925a-c3ca374aad31",
   "metadata": {},
   "source": [
    "#### Import Dataset"
   ]
  },
  {
   "cell_type": "code",
   "execution_count": 3,
   "id": "4f82f538-eb66-42d0-8f54-22310f3488c1",
   "metadata": {},
   "outputs": [
    {
     "data": {
      "text/html": [
       "<div>\n",
       "<style scoped>\n",
       "    .dataframe tbody tr th:only-of-type {\n",
       "        vertical-align: middle;\n",
       "    }\n",
       "\n",
       "    .dataframe tbody tr th {\n",
       "        vertical-align: top;\n",
       "    }\n",
       "\n",
       "    .dataframe thead th {\n",
       "        text-align: right;\n",
       "    }\n",
       "</style>\n",
       "<table border=\"1\" class=\"dataframe\">\n",
       "  <thead>\n",
       "    <tr style=\"text-align: right;\">\n",
       "      <th></th>\n",
       "      <th>url</th>\n",
       "      <th>type</th>\n",
       "    </tr>\n",
       "  </thead>\n",
       "  <tbody>\n",
       "    <tr>\n",
       "      <th>0</th>\n",
       "      <td>br-icloud.com.br</td>\n",
       "      <td>phishing</td>\n",
       "    </tr>\n",
       "    <tr>\n",
       "      <th>1</th>\n",
       "      <td>mp3raid.com/music/krizz_kaliko.html</td>\n",
       "      <td>benign</td>\n",
       "    </tr>\n",
       "    <tr>\n",
       "      <th>2</th>\n",
       "      <td>bopsecrets.org/rexroth/cr/1.htm</td>\n",
       "      <td>benign</td>\n",
       "    </tr>\n",
       "  </tbody>\n",
       "</table>\n",
       "</div>"
      ],
      "text/plain": [
       "                                   url      type\n",
       "0                     br-icloud.com.br  phishing\n",
       "1  mp3raid.com/music/krizz_kaliko.html    benign\n",
       "2      bopsecrets.org/rexroth/cr/1.htm    benign"
      ]
     },
     "execution_count": 3,
     "metadata": {},
     "output_type": "execute_result"
    }
   ],
   "source": [
    "URLs_df = pd.read_csv('malicious_urls.csv')\n",
    "URLs_df.head(3)"
   ]
  },
  {
   "cell_type": "markdown",
   "id": "00e87d6c-1179-442f-9dc1-284f5103a367",
   "metadata": {},
   "source": [
    "## Dataset Properties"
   ]
  },
  {
   "cell_type": "markdown",
   "id": "96c4b882-145b-42da-9b26-6d4aba2624a1",
   "metadata": {},
   "source": [
    "#### Shape"
   ]
  },
  {
   "cell_type": "code",
   "execution_count": 4,
   "id": "a3547459-99d9-417c-a775-f47265c8963e",
   "metadata": {},
   "outputs": [
    {
     "data": {
      "text/plain": [
       "(651191, 2)"
      ]
     },
     "execution_count": 4,
     "metadata": {},
     "output_type": "execute_result"
    }
   ],
   "source": [
    "URLs_df.shape"
   ]
  },
  {
   "cell_type": "markdown",
   "id": "8b47265c-9d71-41f1-84f7-2b8cf8dd3e26",
   "metadata": {},
   "source": [
    "#### Columns"
   ]
  },
  {
   "cell_type": "code",
   "execution_count": 5,
   "id": "f50b6124-a66e-415c-a8fa-26e6d2019ca6",
   "metadata": {},
   "outputs": [
    {
     "data": {
      "text/plain": [
       "Index(['url', 'type'], dtype='object')"
      ]
     },
     "execution_count": 5,
     "metadata": {},
     "output_type": "execute_result"
    }
   ],
   "source": [
    "URLs_df.columns"
   ]
  },
  {
   "cell_type": "markdown",
   "id": "2b3cf78a-d5e9-4508-a041-a851705a638f",
   "metadata": {},
   "source": [
    "#### Categorical Columns"
   ]
  },
  {
   "cell_type": "code",
   "execution_count": 6,
   "id": "ed1bfdd0-fdbb-44da-8ca0-577c988974e0",
   "metadata": {},
   "outputs": [
    {
     "data": {
      "text/plain": [
       "Index(['url', 'type'], dtype='object')"
      ]
     },
     "execution_count": 6,
     "metadata": {},
     "output_type": "execute_result"
    }
   ],
   "source": [
    "URLs_df.select_dtypes(include='object').columns"
   ]
  },
  {
   "cell_type": "markdown",
   "id": "9fb98fd8-9d03-4262-a0e7-5df209df5075",
   "metadata": {},
   "source": [
    "#### Dataframe Info"
   ]
  },
  {
   "cell_type": "code",
   "execution_count": 7,
   "id": "92bd32ee-65d1-4fea-ab26-25a8a8c93bb0",
   "metadata": {},
   "outputs": [
    {
     "name": "stdout",
     "output_type": "stream",
     "text": [
      "<class 'pandas.core.frame.DataFrame'>\n",
      "RangeIndex: 651191 entries, 0 to 651190\n",
      "Data columns (total 2 columns):\n",
      " #   Column  Non-Null Count   Dtype \n",
      "---  ------  --------------   ----- \n",
      " 0   url     651191 non-null  object\n",
      " 1   type    651191 non-null  object\n",
      "dtypes: object(2)\n",
      "memory usage: 9.9+ MB\n"
     ]
    }
   ],
   "source": [
    "URLs_df.info()"
   ]
  },
  {
   "cell_type": "markdown",
   "id": "2e2201f2-3d0f-4695-b9b8-ea0c60a3062a",
   "metadata": {},
   "source": [
    "## Data Cleaning"
   ]
  },
  {
   "cell_type": "markdown",
   "id": "f7b02239-5faa-48a6-a37c-d42d0574fea7",
   "metadata": {},
   "source": [
    "#### Remove Duplicates"
   ]
  },
  {
   "cell_type": "code",
   "execution_count": 8,
   "id": "d7f54f59-3dc1-40c0-82f5-479b11e62343",
   "metadata": {},
   "outputs": [
    {
     "data": {
      "text/plain": [
       "10066"
      ]
     },
     "execution_count": 8,
     "metadata": {},
     "output_type": "execute_result"
    }
   ],
   "source": [
    "URLs_df.duplicated().sum()"
   ]
  },
  {
   "cell_type": "code",
   "execution_count": 9,
   "id": "210910bb-bc40-4123-9a49-12df228ecafc",
   "metadata": {},
   "outputs": [],
   "source": [
    "URLs_df.drop_duplicates(inplace=True, ignore_index=True)"
   ]
  },
  {
   "cell_type": "code",
   "execution_count": 10,
   "id": "cd7cdf0b-410b-4884-bf27-2fc9f99ef9da",
   "metadata": {},
   "outputs": [
    {
     "data": {
      "text/plain": [
       "(641125, 2)"
      ]
     },
     "execution_count": 10,
     "metadata": {},
     "output_type": "execute_result"
    }
   ],
   "source": [
    "URLs_df.shape"
   ]
  },
  {
   "cell_type": "markdown",
   "id": "678141b2-e0ff-482d-9c1c-a0044bd70913",
   "metadata": {},
   "source": [
    "#### Nulls"
   ]
  },
  {
   "cell_type": "code",
   "execution_count": 11,
   "id": "a01ffe00-82d3-44bf-b34a-81bbc2b02608",
   "metadata": {},
   "outputs": [
    {
     "data": {
      "text/plain": [
       "url     0\n",
       "type    0\n",
       "dtype: int64"
      ]
     },
     "execution_count": 11,
     "metadata": {},
     "output_type": "execute_result"
    }
   ],
   "source": [
    "URLs_df.isnull().sum()"
   ]
  },
  {
   "cell_type": "markdown",
   "id": "8e4f8522-f6e7-44bf-96b8-e593181bba14",
   "metadata": {},
   "source": [
    "#### Uniques"
   ]
  },
  {
   "cell_type": "code",
   "execution_count": 12,
   "id": "ce91f89c-8333-4b21-bcff-777546cc1e26",
   "metadata": {},
   "outputs": [
    {
     "data": {
      "text/plain": [
       "array(['phishing', 'benign', 'defacement', 'malware'], dtype=object)"
      ]
     },
     "execution_count": 12,
     "metadata": {},
     "output_type": "execute_result"
    }
   ],
   "source": [
    "URLs_df['type'].unique()"
   ]
  },
  {
   "cell_type": "markdown",
   "id": "b449057a-7735-4c22-b804-268eb81d57d7",
   "metadata": {},
   "source": [
    "#### Value_Counts"
   ]
  },
  {
   "cell_type": "code",
   "execution_count": 13,
   "id": "5ca050f3-f5b8-4b0e-af23-82afda934805",
   "metadata": {},
   "outputs": [
    {
     "data": {
      "text/plain": [
       "type\n",
       "benign        428080\n",
       "defacement     95308\n",
       "phishing       94092\n",
       "malware        23645\n",
       "Name: count, dtype: int64"
      ]
     },
     "execution_count": 13,
     "metadata": {},
     "output_type": "execute_result"
    }
   ],
   "source": [
    "URLs_df['type'].value_counts()"
   ]
  },
  {
   "cell_type": "markdown",
   "id": "44f2b776-5d0b-422c-962a-3d6561fd5854",
   "metadata": {},
   "source": [
    "#### Under Sampling"
   ]
  },
  {
   "cell_type": "code",
   "execution_count": 14,
   "id": "55c56bca-303b-4104-b4f9-28b5dad147ef",
   "metadata": {},
   "outputs": [],
   "source": [
    "from imblearn.under_sampling import RandomUnderSampler\n",
    "\n",
    "sampler = RandomUnderSampler()\n",
    "\n",
    "X, Y = sampler.fit_resample(URLs_df[['url']], URLs_df['type'])"
   ]
  },
  {
   "cell_type": "code",
   "execution_count": 15,
   "id": "458c665d-218e-4513-96e0-03a6cee2133a",
   "metadata": {},
   "outputs": [
    {
     "data": {
      "text/plain": [
       "(94580, 2)"
      ]
     },
     "execution_count": 15,
     "metadata": {},
     "output_type": "execute_result"
    }
   ],
   "source": [
    "urls_df = pd.concat([X, Y], axis = 1, ignore_index=True)\n",
    "urls_df.shape"
   ]
  },
  {
   "cell_type": "code",
   "execution_count": 16,
   "id": "ce856409-b22a-41a6-938d-99d648bf50d3",
   "metadata": {},
   "outputs": [],
   "source": [
    "urls_df.reset_index(inplace=True)"
   ]
  },
  {
   "cell_type": "code",
   "execution_count": 17,
   "id": "f15679cf-bc50-47bc-a671-ee0736e57678",
   "metadata": {},
   "outputs": [
    {
     "data": {
      "text/html": [
       "<div>\n",
       "<style scoped>\n",
       "    .dataframe tbody tr th:only-of-type {\n",
       "        vertical-align: middle;\n",
       "    }\n",
       "\n",
       "    .dataframe tbody tr th {\n",
       "        vertical-align: top;\n",
       "    }\n",
       "\n",
       "    .dataframe thead th {\n",
       "        text-align: right;\n",
       "    }\n",
       "</style>\n",
       "<table border=\"1\" class=\"dataframe\">\n",
       "  <thead>\n",
       "    <tr style=\"text-align: right;\">\n",
       "      <th></th>\n",
       "      <th>index</th>\n",
       "      <th>0</th>\n",
       "      <th>1</th>\n",
       "    </tr>\n",
       "  </thead>\n",
       "  <tbody>\n",
       "    <tr>\n",
       "      <th>0</th>\n",
       "      <td>14554</td>\n",
       "      <td>mediaonline.net/en/televisions/kststvtelemundo...</td>\n",
       "      <td>benign</td>\n",
       "    </tr>\n",
       "    <tr>\n",
       "      <th>1</th>\n",
       "      <td>44379</td>\n",
       "      <td>overtheair.saveandreplay.com/</td>\n",
       "      <td>benign</td>\n",
       "    </tr>\n",
       "    <tr>\n",
       "      <th>2</th>\n",
       "      <td>274620</td>\n",
       "      <td>ascsports.org/oldsite2/Soccer/mississippi.htm</td>\n",
       "      <td>benign</td>\n",
       "    </tr>\n",
       "    <tr>\n",
       "      <th>3</th>\n",
       "      <td>196789</td>\n",
       "      <td>tvstations.usradiostations.info/tvstation/7061...</td>\n",
       "      <td>benign</td>\n",
       "    </tr>\n",
       "    <tr>\n",
       "      <th>4</th>\n",
       "      <td>388296</td>\n",
       "      <td>tvduck.com/Deliver-Us-from-Eva.htm</td>\n",
       "      <td>benign</td>\n",
       "    </tr>\n",
       "    <tr>\n",
       "      <th>...</th>\n",
       "      <td>...</td>\n",
       "      <td>...</td>\n",
       "      <td>...</td>\n",
       "    </tr>\n",
       "    <tr>\n",
       "      <th>94575</th>\n",
       "      <td>611981</td>\n",
       "      <td>tools.ietf.org/html/rfc851</td>\n",
       "      <td>phishing</td>\n",
       "    </tr>\n",
       "    <tr>\n",
       "      <th>94576</th>\n",
       "      <td>10534</td>\n",
       "      <td>kefthymioudevelopment.com</td>\n",
       "      <td>phishing</td>\n",
       "    </tr>\n",
       "    <tr>\n",
       "      <th>94577</th>\n",
       "      <td>637795</td>\n",
       "      <td>www.angelfire.com/sd/isengard/</td>\n",
       "      <td>phishing</td>\n",
       "    </tr>\n",
       "    <tr>\n",
       "      <th>94578</th>\n",
       "      <td>349523</td>\n",
       "      <td>usaa.com-inet-truememberent-iscaddetour-start-...</td>\n",
       "      <td>phishing</td>\n",
       "    </tr>\n",
       "    <tr>\n",
       "      <th>94579</th>\n",
       "      <td>634735</td>\n",
       "      <td>groups.yahoo.com/group/originalgreentablet/</td>\n",
       "      <td>phishing</td>\n",
       "    </tr>\n",
       "  </tbody>\n",
       "</table>\n",
       "<p>94580 rows × 3 columns</p>\n",
       "</div>"
      ],
      "text/plain": [
       "        index                                                  0         1\n",
       "0       14554  mediaonline.net/en/televisions/kststvtelemundo...    benign\n",
       "1       44379                      overtheair.saveandreplay.com/    benign\n",
       "2      274620      ascsports.org/oldsite2/Soccer/mississippi.htm    benign\n",
       "3      196789  tvstations.usradiostations.info/tvstation/7061...    benign\n",
       "4      388296                 tvduck.com/Deliver-Us-from-Eva.htm    benign\n",
       "...       ...                                                ...       ...\n",
       "94575  611981                         tools.ietf.org/html/rfc851  phishing\n",
       "94576   10534                          kefthymioudevelopment.com  phishing\n",
       "94577  637795                     www.angelfire.com/sd/isengard/  phishing\n",
       "94578  349523  usaa.com-inet-truememberent-iscaddetour-start-...  phishing\n",
       "94579  634735        groups.yahoo.com/group/originalgreentablet/  phishing\n",
       "\n",
       "[94580 rows x 3 columns]"
      ]
     },
     "execution_count": 17,
     "metadata": {},
     "output_type": "execute_result"
    }
   ],
   "source": [
    "urls_df"
   ]
  },
  {
   "cell_type": "markdown",
   "id": "1b15f525-2beb-450d-9e2f-3355a0599b8c",
   "metadata": {},
   "source": [
    "#### Drop Index column"
   ]
  },
  {
   "cell_type": "code",
   "execution_count": 18,
   "id": "78348dc7-ee40-4fc8-a011-b40913d45943",
   "metadata": {},
   "outputs": [],
   "source": [
    "urls_df.drop(columns='index', inplace=True)"
   ]
  },
  {
   "cell_type": "code",
   "execution_count": 19,
   "id": "0a6f305e-ac53-4aa4-a191-ae7a3f34571c",
   "metadata": {},
   "outputs": [
    {
     "data": {
      "text/html": [
       "<div>\n",
       "<style scoped>\n",
       "    .dataframe tbody tr th:only-of-type {\n",
       "        vertical-align: middle;\n",
       "    }\n",
       "\n",
       "    .dataframe tbody tr th {\n",
       "        vertical-align: top;\n",
       "    }\n",
       "\n",
       "    .dataframe thead th {\n",
       "        text-align: right;\n",
       "    }\n",
       "</style>\n",
       "<table border=\"1\" class=\"dataframe\">\n",
       "  <thead>\n",
       "    <tr style=\"text-align: right;\">\n",
       "      <th></th>\n",
       "      <th>0</th>\n",
       "      <th>1</th>\n",
       "    </tr>\n",
       "  </thead>\n",
       "  <tbody>\n",
       "    <tr>\n",
       "      <th>0</th>\n",
       "      <td>mediaonline.net/en/televisions/kststvtelemundo...</td>\n",
       "      <td>benign</td>\n",
       "    </tr>\n",
       "    <tr>\n",
       "      <th>1</th>\n",
       "      <td>overtheair.saveandreplay.com/</td>\n",
       "      <td>benign</td>\n",
       "    </tr>\n",
       "    <tr>\n",
       "      <th>2</th>\n",
       "      <td>ascsports.org/oldsite2/Soccer/mississippi.htm</td>\n",
       "      <td>benign</td>\n",
       "    </tr>\n",
       "  </tbody>\n",
       "</table>\n",
       "</div>"
      ],
      "text/plain": [
       "                                                   0       1\n",
       "0  mediaonline.net/en/televisions/kststvtelemundo...  benign\n",
       "1                      overtheair.saveandreplay.com/  benign\n",
       "2      ascsports.org/oldsite2/Soccer/mississippi.htm  benign"
      ]
     },
     "execution_count": 19,
     "metadata": {},
     "output_type": "execute_result"
    }
   ],
   "source": [
    "urls_df.head(3)"
   ]
  },
  {
   "cell_type": "markdown",
   "id": "5812618d-ac25-4982-93d2-02c455f5e1da",
   "metadata": {},
   "source": [
    "#### Rename Columns"
   ]
  },
  {
   "cell_type": "code",
   "execution_count": 20,
   "id": "e5f12dce-8996-4279-9c5f-8b682d1119d0",
   "metadata": {},
   "outputs": [],
   "source": [
    "urls_df.rename(columns={0:'url', 1:'type'}, inplace=True)"
   ]
  },
  {
   "cell_type": "markdown",
   "id": "68144f71-9989-4b81-86a7-ba8b2e58691d",
   "metadata": {},
   "source": [
    "#### Value Counts"
   ]
  },
  {
   "cell_type": "code",
   "execution_count": 21,
   "id": "b90deb75-0326-4ca6-b53c-a7f8eadc530c",
   "metadata": {},
   "outputs": [
    {
     "data": {
      "text/plain": [
       "type\n",
       "benign        23645\n",
       "defacement    23645\n",
       "malware       23645\n",
       "phishing      23645\n",
       "Name: count, dtype: int64"
      ]
     },
     "execution_count": 21,
     "metadata": {},
     "output_type": "execute_result"
    }
   ],
   "source": [
    "urls_df['type'].value_counts()"
   ]
  },
  {
   "cell_type": "markdown",
   "id": "3fa61ee6-59ab-4150-ae80-732ff9616f07",
   "metadata": {},
   "source": [
    "#### Save Dataset"
   ]
  },
  {
   "cell_type": "code",
   "execution_count": 23,
   "id": "740b15d4-9bd4-4ded-a931-716441f88170",
   "metadata": {},
   "outputs": [],
   "source": [
    "urls_df.to_csv('urls.csv')"
   ]
  },
  {
   "cell_type": "markdown",
   "id": "763062bd-67ed-489d-b58d-f60e8188de3b",
   "metadata": {},
   "source": [
    "#### Column Standardization: url"
   ]
  },
  {
   "cell_type": "code",
   "execution_count": null,
   "id": "2466babe-6d3d-416c-8023-82ec8345f1ee",
   "metadata": {},
   "outputs": [],
   "source": [
    "import re\n",
    "from string import punctuation\n",
    "from nltk.tokenize import word_tokenize\n",
    "from nltk.corpus import stopwords\n",
    "\n",
    "stop_words = stopwords.words('english')\n",
    "common_url_words = ['com', 'in', 'http', 'https', 'html', 'www', 'php', 'org', 'css', 'js', 'htm', 'xml', 'py', 'java', 'rb', 'cs', 'json', 'sql']\n",
    "\n",
    "def Refiner(text):\n",
    "    text = ''.join([i if i not in punctuation else ' ' for i in text])\n",
    "    words = word_tokenize(text)\n",
    "    url = ' '.join([word for word in words if word not in common_url_words and word not in stop_words])\n",
    "    return url"
   ]
  },
  {
   "cell_type": "code",
   "execution_count": null,
   "id": "cfb1394b-725e-4c26-9576-2a1cd052e9b3",
   "metadata": {},
   "outputs": [],
   "source": [
    "urls_df['url'] = urls_df['url'].apply(Refiner)"
   ]
  },
  {
   "cell_type": "code",
   "execution_count": null,
   "id": "17c8cc44-cbb8-4ced-9287-150655fcdb1a",
   "metadata": {},
   "outputs": [],
   "source": [
    "urls_df['url'] = urls_df['url'].apply(lambda x: x + ' ')"
   ]
  },
  {
   "cell_type": "code",
   "execution_count": null,
   "id": "24e15a27-5a18-4b49-8f55-cb906640ea42",
   "metadata": {},
   "outputs": [],
   "source": [
    "urls_df"
   ]
  },
  {
   "cell_type": "markdown",
   "id": "29b1dc07-ce91-42db-9ce0-230a5ffced7f",
   "metadata": {},
   "source": [
    "## EDA"
   ]
  },
  {
   "cell_type": "code",
   "execution_count": null,
   "id": "3924c234-de93-4ef1-907b-3e1d32d39126",
   "metadata": {},
   "outputs": [],
   "source": [
    "from wordcloud import WordCloud\n",
    "\n",
    "wc = WordCloud(width=400, height=400, include_numbers=False)"
   ]
  },
  {
   "cell_type": "code",
   "execution_count": null,
   "id": "b8ee4e27-201a-4c01-834c-3bc550f1f8bf",
   "metadata": {},
   "outputs": [],
   "source": [
    "text = urls_df['url'].sum()"
   ]
  },
  {
   "cell_type": "code",
   "execution_count": null,
   "id": "20d2d731-678d-4160-85fb-63bd0af93bac",
   "metadata": {},
   "outputs": [],
   "source": [
    "plt.imshow(wc.generate(text))\n",
    "plt.xticks(ticks = [])\n",
    "plt.yticks(ticks = [])\n",
    "plt.title('Word Cloud of URLs')\n",
    "plt.show()"
   ]
  },
  {
   "cell_type": "code",
   "execution_count": null,
   "id": "7afb9f66-2f78-4b33-81aa-bc72ec711523",
   "metadata": {},
   "outputs": [],
   "source": [
    "sns.countplot(x = 'type', data = urls_df)\n",
    "plt.title('Counts of URLs type')\n",
    "plt.show()"
   ]
  },
  {
   "cell_type": "code",
   "execution_count": null,
   "id": "4bce2477-b52f-45c8-932c-8489fd1de7cf",
   "metadata": {},
   "outputs": [],
   "source": [
    "col_dict = dict(urls_df['type'].value_counts())\n",
    "plt.pie(x = col_dict.values(), labels=col_dict.keys(), autopct='%1.1f%%', startangle=90)\n",
    "plt.title('Pie Chart of URL type')\n",
    "plt.show()"
   ]
  },
  {
   "cell_type": "markdown",
   "id": "3dc12fd5-a7a2-4526-a062-1ef15f8fff93",
   "metadata": {},
   "source": [
    "## Data Splitting"
   ]
  },
  {
   "cell_type": "code",
   "execution_count": null,
   "id": "e94015a5-ac2c-4439-8808-eccef248faec",
   "metadata": {},
   "outputs": [],
   "source": [
    "X = urls_df['url']\n",
    "Y = urls_df['type']"
   ]
  },
  {
   "cell_type": "code",
   "execution_count": null,
   "id": "a8ed1386-45e3-4e7f-89b6-6fb4a981f55f",
   "metadata": {},
   "outputs": [],
   "source": [
    "from sklearn.model_selection import train_test_split\n",
    "X_train, X_test, y_train, y_test = train_test_split(X, Y, random_state=42, test_size=0.2)"
   ]
  },
  {
   "cell_type": "code",
   "execution_count": null,
   "id": "b1f9d7f2-9db3-4f8f-84c0-7bf2d0c41590",
   "metadata": {},
   "outputs": [],
   "source": [
    "X_train.shape, y_train.shape"
   ]
  },
  {
   "cell_type": "markdown",
   "id": "6f4e227e-c741-48c7-82bc-b97522bee549",
   "metadata": {},
   "source": [
    "## Model Selection"
   ]
  },
  {
   "cell_type": "code",
   "execution_count": null,
   "id": "91ae0f71-f21e-4dbf-8227-024b3d67945d",
   "metadata": {},
   "outputs": [],
   "source": [
    "from sklearn.linear_model import LogisticRegression\n",
    "from sklearn.neighbors import KNeighborsClassifier\n",
    "from sklearn.tree import DecisionTreeClassifier\n",
    "from sklearn.naive_bayes import MultinomialNB\n",
    "from sklearn.model_selection import cross_val_score\n",
    "from sklearn.feature_extraction.text import CountVectorizer\n",
    "from sklearn.pipeline import Pipeline\n",
    "\n",
    "cross_val_df = pd.DataFrame(columns = ['CV_scores', 'Mean_Accuracy'])\n",
    "\n",
    "log_reg = Pipeline(steps=[('cv', CountVectorizer()), ('log_reg', LogisticRegression())])\n",
    "scores = cross_val_score(log_reg, X, Y, cv = 5)\n",
    "\n",
    "cross_val_df.loc['log_reg', 'CV_scores'] = scores\n",
    "cross_val_df.loc['log_reg', 'Mean_Accuracy'] = scores.mean()"
   ]
  },
  {
   "cell_type": "code",
   "execution_count": null,
   "id": "8b41f555-6cf8-4778-a4ff-2c341f7c68ab",
   "metadata": {},
   "outputs": [],
   "source": [
    "knn = Pipeline(steps=[('cv', CountVectorizer()), ('knn', KNeighborsClassifier())])\n",
    "scores = cross_val_score(knn, X, Y, cv = 5)\n",
    "\n",
    "cross_val_df.loc['knn', 'CV_scores'] = scores\n",
    "cross_val_df.loc['knn', 'Mean_Accuracy'] = scores.mean()"
   ]
  },
  {
   "cell_type": "code",
   "execution_count": null,
   "id": "f501d2aa-5714-4bdd-940c-8fefb3f48bec",
   "metadata": {},
   "outputs": [],
   "source": [
    "dec_tree = Pipeline(steps=[('cv', CountVectorizer()), ('dec_tree', DecisionTreeClassifier())])\n",
    "scores = cross_val_score(dec_tree, X, Y, cv = 5)\n",
    "\n",
    "cross_val_df.loc['dec_tree', 'CV_scores'] = scores\n",
    "cross_val_df.loc['dec_tree', 'Mean_Accuracy'] = scores.mean()"
   ]
  },
  {
   "cell_type": "code",
   "execution_count": null,
   "id": "13444e6c-0bb6-4d6f-9bb4-26109c2df05a",
   "metadata": {},
   "outputs": [],
   "source": [
    "mnb = Pipeline(steps=[('cv', CountVectorizer()), ('mnb', MultinomialNB())])\n",
    "scores = cross_val_score(mnb, X, Y, cv = 5)\n",
    "\n",
    "cross_val_df.loc['mnb', 'CV_scores'] = scores\n",
    "cross_val_df.loc['mnb', 'Mean_Accuracy'] = scores.mean()"
   ]
  },
  {
   "cell_type": "code",
   "execution_count": null,
   "id": "417581cb-78bd-451d-a68c-f37c11d462ba",
   "metadata": {},
   "outputs": [],
   "source": [
    "cross_val_df.sort_values(by = 'Mean_Accuracy')"
   ]
  },
  {
   "cell_type": "markdown",
   "id": "9611af74-80e7-4194-bf95-e81469e1d4d2",
   "metadata": {},
   "source": [
    "## Model Building"
   ]
  },
  {
   "cell_type": "code",
   "execution_count": null,
   "id": "68d05967-80e4-44c6-9e4d-7c1d398c6628",
   "metadata": {},
   "outputs": [],
   "source": [
    "model = Pipeline(steps=[('cv', CountVectorizer()), ('log_reg', LogisticRegression())])\n",
    "model.fit(X_train, y_train)"
   ]
  },
  {
   "cell_type": "markdown",
   "id": "49ed014c-8a89-45e1-963f-e345a2eb61b8",
   "metadata": {},
   "source": [
    "## Model Evaluation"
   ]
  },
  {
   "cell_type": "code",
   "execution_count": null,
   "id": "24bcf1fe-9025-4837-a016-4acffb5a4501",
   "metadata": {},
   "outputs": [],
   "source": [
    "from sklearn.metrics import precision_score, recall_score\n",
    "\n",
    "y_pred = model.predict(X_test)\n",
    "\n",
    "print(f'Accuracy Score: {model.score(X_test, y_test)}')\n",
    "print(f'Precision Score: {precision_score(y_test, y_pred, average=\"micro\")}')\n",
    "print(f'Recall Score: {recall_score(y_test, y_pred, average=\"micro\")}')"
   ]
  },
  {
   "cell_type": "markdown",
   "id": "4c303bd6-7a3a-4796-9d9d-dcd0f9fad27d",
   "metadata": {},
   "source": [
    "## Predictions"
   ]
  },
  {
   "cell_type": "code",
   "execution_count": null,
   "id": "6ba3c1e2-0e93-417a-9085-9c068529f7ca",
   "metadata": {},
   "outputs": [],
   "source": [
    "URLs_df.sample(5)"
   ]
  },
  {
   "cell_type": "code",
   "execution_count": null,
   "id": "c725c740-0c1f-4d5e-9af2-be7efe5755b9",
   "metadata": {},
   "outputs": [],
   "source": [
    "model.predict(['ottawadancehall.com/montrealdancehall/newsback...\t'])"
   ]
  },
  {
   "cell_type": "code",
   "execution_count": null,
   "id": "89a49e82-1099-4345-a056-2b19f270a630",
   "metadata": {},
   "outputs": [],
   "source": [
    "model.predict(['http://155.138.234.103/mips'])"
   ]
  },
  {
   "cell_type": "code",
   "execution_count": null,
   "id": "87383b3f-32b1-4b73-bd8f-a292a8025b9d",
   "metadata": {},
   "outputs": [],
   "source": [
    "model.predict(['fanbase.com/Eric-Fernsten'])"
   ]
  },
  {
   "cell_type": "code",
   "execution_count": null,
   "id": "b358c307-e75b-4fc3-9cf0-ff89929066d4",
   "metadata": {},
   "outputs": [],
   "source": []
  }
 ],
 "metadata": {
  "kernelspec": {
   "display_name": "Python 3 (ipykernel)",
   "language": "python",
   "name": "python3"
  },
  "language_info": {
   "codemirror_mode": {
    "name": "ipython",
    "version": 3
   },
   "file_extension": ".py",
   "mimetype": "text/x-python",
   "name": "python",
   "nbconvert_exporter": "python",
   "pygments_lexer": "ipython3",
   "version": "3.11.7"
  }
 },
 "nbformat": 4,
 "nbformat_minor": 5
}
